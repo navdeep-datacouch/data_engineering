{
 "cells": [
  {
   "cell_type": "code",
   "execution_count": null,
   "id": "1e7bc916",
   "metadata": {},
   "outputs": [],
   "source": [
    "from pyspark.sql import SparkSession\n",
    "spark = SparkSession.builder \\\n",
    "    .appName(\"ColabSparkSession\") \\\n",
    "    .getOrCreate()"
   ]
  },
  {
   "cell_type": "markdown",
   "id": "85dce5a6-7269-4222-88e0-3472a1825922",
   "metadata": {
    "id": "85dce5a6-7269-4222-88e0-3472a1825922"
   },
   "source": [
    "<font color=\"orange\"><b>Understanding AQE</b></font>\n",
    "\n",
    "Adaptive Query Execution (AQE) is an optimization technique in Spark SQL that makes use of the runtime statistics to choose the most efficient query execution plan, which is enabled by default since Apache Spark 3.2. 0. Spark SQL can turn on and off AQE by spark."
   ]
  },
  {
   "cell_type": "code",
   "execution_count": null,
   "id": "85ff40d3-83bc-46eb-b6d0-490afc7fd828",
   "metadata": {
    "executionInfo": {
     "elapsed": 23750,
     "status": "ok",
     "timestamp": 1752648688638,
     "user": {
      "displayName": "Shivam",
      "userId": "12658021398747847138"
     },
     "user_tz": -330
    },
    "id": "85ff40d3-83bc-46eb-b6d0-490afc7fd828"
   },
   "outputs": [],
   "source": [
    "spark.conf.set(\"spark.sql.adaptive.enabled\",\"true\")\n",
    "spark.conf.set(\"spark.sql.shuffle.partitions\",200)\n",
    "\n",
    "from pyspark.sql.functions import *\n",
    "peopleDF = spark.read.option(\"header\",\"true\").csv(\"spark-data/people-10m\")\n",
    "peopleDF \\\n",
    ".withColumn(\"birthyear\",year(col(\"birthDate\"))) \\\n",
    ".groupBy(\"birthyear\") \\\n",
    ".count() \\\n",
    ".write.mode(\"overwrite\").parquet(\"spark-data/people-10m/output\")"
   ]
  },
  {
   "cell_type": "markdown",
   "id": "e2836162-bd35-407d-bb58-ffcad7170ade",
   "metadata": {
    "id": "e2836162-bd35-407d-bb58-ffcad7170ade"
   },
   "source": [
    "AQE decided to have 1 partition after shuffling, thus there are 1 task."
   ]
  }
 ],
 "metadata": {
  "colab": {
   "provenance": []
  },
  "kernelspec": {
   "display_name": "Python 3",
   "language": "python",
   "name": "python3"
  },
  "language_info": {
   "codemirror_mode": {
    "name": "ipython",
    "version": 3
   },
   "file_extension": ".py",
   "mimetype": "text/x-python",
   "name": "python",
   "nbconvert_exporter": "python",
   "pygments_lexer": "ipython3",
   "version": "3.12.8"
  }
 },
 "nbformat": 4,
 "nbformat_minor": 5
}
