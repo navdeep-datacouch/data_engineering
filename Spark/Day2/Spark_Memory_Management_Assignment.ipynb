{
 "cells": [
  {
   "cell_type": "markdown",
   "metadata": {
    "id": "Gur8IAfvXOSS"
   },
   "source": [
    "# Spark Memory Management\n",
    "\n",
    "**Formula's to be used:**\n",
    "* Reserved Memory = 300MB\n",
    "* user memory = (Java heap-Reserved Memory)*(1-spark.fraction.memory) \n",
    "(8192-300)*0.25 = 1973MB\n",
    "\n",
    "* spark memory = (Java Heap- Reserved)* spark.fraction.memory = (8192-300)*0.75 = 5919 MB\n",
    "* spark storage memory = (spark memory) *spark.memory.storageFraction = 5919*.25 = 1479\n",
    "* spark executor memory = spark memory - (1-spark.memory.storageFraction)= 5919*.75 = 4439"
   ]
  },
  {
   "cell_type": "markdown",
   "metadata": {
    "id": "6CoAAL3pXOSk"
   },
   "source": [
    "## Calculate Executor Memory"
   ]
  },
  {
   "cell_type": "markdown",
   "metadata": {
    "id": "6fJKjZ1BXOSl"
   },
   "source": [
    "Provided with below configuration\n",
    "\n",
    "* Executor Memory-8GB\n",
    "* spark.fraction.memory-0.75\n",
    "* spark.memory.storageFraction -0.25"
   ]
  },
  {
   "cell_type": "markdown",
   "metadata": {
    "id": "bfdmrad2XOSl"
   },
   "source": [
    "**Question:** How much memory is reserved for user's data?\n",
    "\n",
    "**Question:** How much memory is reserved for spark cache's?\n",
    "\n",
    "**Question:** How much memory is reserved for spark execution?"
   ]
  },
  {
   "cell_type": "markdown",
   "metadata": {},
   "source": [
    "## Few more questions"
   ]
  },
  {
   "cell_type": "markdown",
   "metadata": {},
   "source": [
    "**Question:** Let's say, you have less operations like join,shuffle etc that needs intermediate memory , instead you need more memory for cache and broadcast variable, and you prefer them to be in memory, which memory setting you will increase to attain it?\n"
   ]
  },
  {
   "cell_type": "markdown",
   "metadata": {},
   "source": [
    "**Question:** Let's say you are using lot of UDF's which are internally using lot of user defined structures, and you are frequently getting out of memory issues, which memory setting will you change to tune your application to handle this scenario?"
   ]
  },
  {
   "cell_type": "markdown",
   "metadata": {},
   "source": [
    "**Question:** Let's say your application is using lot of joins,sort and aggregate operations, and your cached data is frequently either spilled on disk or recalculated again & again. Which memory you think you can increase to handle it?"
   ]
  }
 ],
 "metadata": {
  "colab": {
   "collapsed_sections": [],
   "name": "Copy of 06-Caching.ipynb",
   "provenance": []
  },
  "kernelspec": {
   "display_name": "Python 3",
   "language": "python",
   "name": "python3"
  },
  "language_info": {
   "codemirror_mode": {
    "name": "ipython",
    "version": 3
   },
   "file_extension": ".py",
   "mimetype": "text/x-python",
   "name": "python",
   "nbconvert_exporter": "python",
   "pygments_lexer": "ipython3",
   "version": "3.8.12"
  },
  "name": "Caching",
  "notebookId": 9851
 },
 "nbformat": 4,
 "nbformat_minor": 4
}
