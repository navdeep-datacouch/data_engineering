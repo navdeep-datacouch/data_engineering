{
 "cells": [
  {
   "cell_type": "code",
   "execution_count": null,
   "id": "a3af109b",
   "metadata": {},
   "outputs": [],
   "source": [
    "from pyspark.sql import SparkSession\n",
    "spark = SparkSession.builder \\\n",
    "    .appName(\"ColabSparkSession\") \\\n",
    "    .getOrCreate()"
   ]
  },
  {
   "cell_type": "code",
   "execution_count": null,
   "id": "9c733caa-fbc9-49e3-b925-01cab16dd063",
   "metadata": {},
   "outputs": [],
   "source": [
    "from pyspark.sql.types import *\n",
    "from pyspark.sql.functions import *\n",
    "\n",
    "(spark\n",
    " .read\n",
    " .option(\"header\",\"true\")\n",
    " .csv(\"spark-data/ratings.csv\")\n",
    " .coalesce(3)\n",
    " .write\n",
    " .mode(\"overwrite\")\n",
    " .bucketBy(10,\"movieId\")\n",
    " .saveAsTable(\"rating_bucketed\")\n",
    ")"
   ]
  },
  {
   "cell_type": "code",
   "execution_count": null,
   "id": "2546d5fb-279d-4476-bf51-4f105e4d39f7",
   "metadata": {},
   "outputs": [],
   "source": [
    "spark.sql(\"Describe formatted rating_bucketed\").show()"
   ]
  },
  {
   "cell_type": "code",
   "execution_count": null,
   "id": "a4df52bb-54d4-4d76-8afc-1811156b7854",
   "metadata": {},
   "outputs": [],
   "source": [
    "(spark\n",
    " .read\n",
    " .table(\"rating_bucketed\")\n",
    " .groupBy(\"movieId\")\n",
    " .count()\n",
    " .write\n",
    " .mode(\"overwrite\")\n",
    " .csv(\"spark-data/output\")\n",
    ")"
   ]
  },
  {
   "cell_type": "code",
   "execution_count": null,
   "id": "9318ca4c-00e8-4865-98ca-cd66a1853e8c",
   "metadata": {},
   "outputs": [],
   "source": [
    "(spark\n",
    " .read\n",
    " .parquet(\"spark-data/rating-huge\")\n",
    " .groupBy(\"movieId\")\n",
    " .count()\n",
    " .write\n",
    " .mode(\"overwrite\")\n",
    " .csv(\"spark-data/output\")\n",
    ")"
   ]
  }
 ],
 "metadata": {
  "kernelspec": {
   "display_name": "Python 3",
   "language": "python",
   "name": "python3"
  },
  "language_info": {
   "codemirror_mode": {
    "name": "ipython",
    "version": 3
   },
   "file_extension": ".py",
   "mimetype": "text/x-python",
   "name": "python",
   "nbconvert_exporter": "python",
   "pygments_lexer": "ipython3",
   "version": "3.12.8"
  }
 },
 "nbformat": 4,
 "nbformat_minor": 5
}
