{
 "cells": [
  {
   "cell_type": "code",
   "execution_count": null,
   "id": "4e6b7a6a",
   "metadata": {},
   "outputs": [],
   "source": [
    "from pyspark.sql import SparkSession\n",
    "spark = SparkSession.builder \\\n",
    "    .appName(\"ColabSparkSession\") \\\n",
    "    .getOrCreate()"
   ]
  },
  {
   "cell_type": "markdown",
   "id": "5167e2ab-9331-45b4-8a48-ad8d653f91c9",
   "metadata": {},
   "source": [
    "#### Working with CSV"
   ]
  },
  {
   "cell_type": "code",
   "execution_count": null,
   "id": "e2c9f21d-d054-4c29-a901-2a276ee8f4c9",
   "metadata": {},
   "outputs": [],
   "source": [
    "ratingCsVDF = spark.read.option(\"header\",\"true\").option(\"inferschema\",\"true\").csv(\"spark-data/ratings.csv\") \n",
    "ratingCsVDF.filter(\"userId =1\").write.mode(\"overwrite\").csv(\"spark-data/output\")"
   ]
  },
  {
   "cell_type": "markdown",
   "id": "946d430c-ac89-44dd-b178-b4569bf8176e",
   "metadata": {},
   "source": [
    "#### Working with Parquet"
   ]
  },
  {
   "cell_type": "code",
   "execution_count": null,
   "id": "8b617cbd-f42a-48dc-bf8f-d167a8d55a9b",
   "metadata": {},
   "outputs": [],
   "source": [
    "ratingParquetDF1 = spark.read.parquet(\"spark-data/rating-typed\")\n",
    "ratingParquetDF1.filter(\"userId =1\").write.mode(\"overwrite\").csv(\"spark-data/output\")"
   ]
  },
  {
   "cell_type": "markdown",
   "id": "75ae7437-b00d-45f6-b488-9f1dd1b37643",
   "metadata": {},
   "source": [
    "### Working with json"
   ]
  },
  {
   "cell_type": "code",
   "execution_count": 4,
   "id": "1b9e732a-4d77-42ce-b081-508e3d12cc09",
   "metadata": {},
   "outputs": [],
   "source": [
    "ratingJsonDF1 = spark.read.json(\"spark-data/rating-json\")\n",
    "ratingParquetDF1.filter(\"userId =1\").write.mode(\"overwrite\").csv(\"spark-data/output\")"
   ]
  },
  {
   "cell_type": "code",
   "execution_count": null,
   "id": "70aed4c4-d08e-4071-913f-6b67cc216142",
   "metadata": {},
   "outputs": [],
   "source": []
  }
 ],
 "metadata": {
  "kernelspec": {
   "display_name": "Python 3",
   "language": "python",
   "name": "python3"
  },
  "language_info": {
   "codemirror_mode": {
    "name": "ipython",
    "version": 3
   },
   "file_extension": ".py",
   "mimetype": "text/x-python",
   "name": "python",
   "nbconvert_exporter": "python",
   "pygments_lexer": "ipython3",
   "version": "3.12.8"
  }
 },
 "nbformat": 4,
 "nbformat_minor": 5
}
