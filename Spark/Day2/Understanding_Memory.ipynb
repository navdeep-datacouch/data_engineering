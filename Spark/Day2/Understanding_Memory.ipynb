{
 "cells": [
  {
   "cell_type": "code",
   "execution_count": null,
   "id": "e34b0e53-dea7-48a0-a853-98f1322732dc",
   "metadata": {},
   "outputs": [],
   "source": [
    "# Run below code \n",
    "\n",
    "from pyspark.sql import SparkSession\n",
    "spark = SparkSession.builder \\\n",
    "    .appName(\"ColabSparkSession\") \\\n",
    "    .getOrCreate()"
   ]
  },
  {
   "cell_type": "code",
   "execution_count": null,
   "id": "1f36241c-1d58-4998-8b45-c31b2596252c",
   "metadata": {},
   "outputs": [],
   "source": [
    "(\n",
    "spark\n",
    ".read\n",
    ".csv(\"spark-data/ratings.csv\")\n",
    ".collect())"
   ]
  },
  {
   "cell_type": "code",
   "execution_count": null,
   "id": "0bd2ae6c-291b-4133-ba30-eed664080ba8",
   "metadata": {},
   "outputs": [],
   "source": [
    "(\n",
    "spark\n",
    ".read\n",
    ".csv(\"spark-data/movies.csv\")\n",
    ".collect())"
   ]
  },
  {
   "cell_type": "code",
   "execution_count": null,
   "id": "06eff7ae-fc1e-43d4-9768-53a7713583ac",
   "metadata": {},
   "outputs": [],
   "source": [
    "(\n",
    "spark\n",
    ".read\n",
    ".csv(\"spark-data/ratings.csv\")\n",
    ".take(20))"
   ]
  },
  {
   "cell_type": "code",
   "execution_count": null,
   "id": "f7542f07-c2f5-4b0e-812f-07f145694b82",
   "metadata": {},
   "outputs": [],
   "source": []
  }
 ],
 "metadata": {
  "kernelspec": {
   "display_name": "Python 3",
   "language": "python",
   "name": "python3"
  },
  "language_info": {
   "codemirror_mode": {
    "name": "ipython",
    "version": 3
   },
   "file_extension": ".py",
   "mimetype": "text/x-python",
   "name": "python",
   "nbconvert_exporter": "python",
   "pygments_lexer": "ipython3",
   "version": "3.12.8"
  }
 },
 "nbformat": 4,
 "nbformat_minor": 5
}
