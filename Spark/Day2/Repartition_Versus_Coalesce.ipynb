{
 "cells": [
  {
   "cell_type": "code",
   "execution_count": null,
   "id": "2c11a9e4",
   "metadata": {},
   "outputs": [],
   "source": [
    "from pyspark.sql import SparkSession\n",
    "spark = SparkSession.builder \\\n",
    "    .appName(\"ColabSparkSession\") \\\n",
    "    .getOrCreate()"
   ]
  },
  {
   "cell_type": "markdown",
   "id": "e2a56e10-e7d8-4bd1-bbea-10e2ba8f47b4",
   "metadata": {
    "id": "e2a56e10-e7d8-4bd1-bbea-10e2ba8f47b4"
   },
   "source": [
    "# <font color=\"orange\">Repartition Versus Coalesce</font>"
   ]
  },
  {
   "cell_type": "markdown",
   "id": "46b7d3e7-d94d-47d9-bfd9-7cb3a3ef7691",
   "metadata": {
    "id": "46b7d3e7-d94d-47d9-bfd9-7cb3a3ef7691"
   },
   "source": [
    "### Create a Dataframe"
   ]
  },
  {
   "cell_type": "code",
   "execution_count": null,
   "id": "31ee2671-f341-482d-906d-55d8de0f6dd5",
   "metadata": {
    "id": "31ee2671-f341-482d-906d-55d8de0f6dd5"
   },
   "outputs": [],
   "source": [
    "spark.conf.set(\"spark.sql.adaptive.enabled\",\"false\")\n",
    "smallratingDF = spark.read.parquet(\"spark-data/ratings\")\n",
    "smallratingDF.rdd.getNumPartitions()"
   ]
  },
  {
   "cell_type": "markdown",
   "id": "f2edc957-b59a-48ad-a26d-92537bb6aef9",
   "metadata": {
    "id": "f2edc957-b59a-48ad-a26d-92537bb6aef9"
   },
   "source": [
    "__Decreasing number of partitions with Repartition__"
   ]
  },
  {
   "cell_type": "code",
   "execution_count": null,
   "id": "bce55be0-f377-4e3a-8627-9a92b9dbcc07",
   "metadata": {
    "id": "bce55be0-f377-4e3a-8627-9a92b9dbcc07"
   },
   "outputs": [],
   "source": [
    "smallratingDF.repartition(4,\"_c2\").groupBy(\"_c2\").count().write.mode(\"overwrite\").csv(\"spark-data/output/repartitioned\")"
   ]
  },
  {
   "cell_type": "code",
   "execution_count": null,
   "id": "597033c5-cf44-4065-b23f-ef4bc616c397",
   "metadata": {
    "id": "597033c5-cf44-4065-b23f-ef4bc616c397"
   },
   "outputs": [],
   "source": [
    "spark.sparkContext"
   ]
  },
  {
   "cell_type": "markdown",
   "id": "3873cd98-4508-4536-8c79-a492771c2baf",
   "metadata": {
    "id": "3873cd98-4508-4536-8c79-a492771c2baf"
   },
   "source": [
    "__Decreasing number of partitions with Coalesce___"
   ]
  },
  {
   "cell_type": "code",
   "execution_count": null,
   "id": "2199e5d4-755d-4202-9313-c835c1089f12",
   "metadata": {
    "id": "2199e5d4-755d-4202-9313-c835c1089f12"
   },
   "outputs": [],
   "source": [
    "smallratingDF.coalesce(4).write.mode(\"overwrite\").csv(\"spark-data/output/repartitioned\")"
   ]
  },
  {
   "cell_type": "markdown",
   "id": "7253ce97-5b8c-460e-8983-a8d344bfc3c1",
   "metadata": {
    "id": "7253ce97-5b8c-460e-8983-a8d344bfc3c1"
   },
   "source": [
    "<font color=\"sky blue\">Let's enable the AQE</font>"
   ]
  },
  {
   "cell_type": "code",
   "execution_count": 11,
   "id": "b7e6f933-caf7-4365-9e4b-cf393830a664",
   "metadata": {
    "id": "b7e6f933-caf7-4365-9e4b-cf393830a664"
   },
   "outputs": [],
   "source": [
    "spark.conf.set(\"spark.sql.adaptive.enabled\",\"true\")"
   ]
  },
  {
   "cell_type": "code",
   "execution_count": null,
   "id": "3e2d4eb4-7e27-41af-b61c-c01110457155",
   "metadata": {
    "id": "3e2d4eb4-7e27-41af-b61c-c01110457155"
   },
   "outputs": [],
   "source": [
    "smallratingDF = spark.read.parquet(\"spark-data/rating-small\")\n",
    "smallratingDF.repartition(4).write.mode(\"overwrite\").csv(\"spark-data/output/repartitioned\")"
   ]
  },
  {
   "cell_type": "code",
   "execution_count": null,
   "id": "17fed0f2-e1e5-4ace-9df5-b9f22792f118",
   "metadata": {
    "id": "17fed0f2-e1e5-4ace-9df5-b9f22792f118"
   },
   "outputs": [],
   "source": []
  }
 ],
 "metadata": {
  "colab": {
   "provenance": []
  },
  "kernelspec": {
   "display_name": "Python 3",
   "language": "python",
   "name": "python3"
  },
  "language_info": {
   "codemirror_mode": {
    "name": "ipython",
    "version": 3
   },
   "file_extension": ".py",
   "mimetype": "text/x-python",
   "name": "python",
   "nbconvert_exporter": "python",
   "pygments_lexer": "ipython3",
   "version": "3.12.8"
  }
 },
 "nbformat": 4,
 "nbformat_minor": 5
}
