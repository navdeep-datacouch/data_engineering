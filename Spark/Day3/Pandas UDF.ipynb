{
 "cells": [
  {
   "cell_type": "code",
   "execution_count": null,
   "id": "bd489b6b",
   "metadata": {},
   "outputs": [],
   "source": [
    "from pyspark.sql import SparkSession\n",
    "spark = SparkSession.builder \\\n",
    "    .appName(\"SparkSession\") \\\n",
    "    .getOrCreate()"
   ]
  },
  {
   "cell_type": "code",
   "execution_count": 2,
   "id": "0fb7bd83",
   "metadata": {},
   "outputs": [],
   "source": [
    "def plus(a,b):\n",
    " return a+b"
   ]
  },
  {
   "cell_type": "code",
   "execution_count": null,
   "id": "a493d6e2",
   "metadata": {},
   "outputs": [],
   "source": [
    "spark.udf.register(\"plus\",plus)"
   ]
  },
  {
   "cell_type": "code",
   "execution_count": null,
   "id": "ceb76588",
   "metadata": {},
   "outputs": [],
   "source": [
    "import time\n",
    "start = time.time()\n",
    "df = spark.range(10000000).selectExpr(\"id AS a\",\"id AS b\")\n",
    "df.selectExpr(\"count(plus(a,b))\").count()\n",
    "end = time.time()-start\n",
    "print(f\"Time taken {end}\")"
   ]
  },
  {
   "cell_type": "code",
   "execution_count": null,
   "id": "05801377",
   "metadata": {},
   "outputs": [],
   "source": [
    "df.selectExpr(\"count(plus(a,b))\").explain()"
   ]
  },
  {
   "cell_type": "code",
   "execution_count": null,
   "id": "20b43cb9-c186-4069-b657-e75dd9b78c53",
   "metadata": {},
   "outputs": [],
   "source": [
    "pip install pandas"
   ]
  },
  {
   "cell_type": "code",
   "execution_count": null,
   "id": "ce3561c1-a00f-4195-ba19-82ae73cd62e7",
   "metadata": {},
   "outputs": [],
   "source": [
    "pip install pyarrow"
   ]
  },
  {
   "cell_type": "code",
   "execution_count": 8,
   "id": "b825b15a",
   "metadata": {},
   "outputs": [],
   "source": [
    "from pyspark.sql.types import LongType\n",
    "from pyspark.sql.functions import pandas_udf,count\n",
    "\n",
    "@pandas_udf(LongType())\n",
    "def plus_pandas(a,b):\n",
    " return a+b"
   ]
  },
  {
   "cell_type": "code",
   "execution_count": null,
   "id": "224934af",
   "metadata": {},
   "outputs": [],
   "source": [
    "spark.udf.register(\"plus_pandas\",plus_pandas)"
   ]
  },
  {
   "cell_type": "code",
   "execution_count": null,
   "id": "97fef195",
   "metadata": {},
   "outputs": [],
   "source": [
    "import time\n",
    "start = time.time()\n",
    "df = spark.range(10000000).selectExpr(\"id AS a\",\"id AS b\")\n",
    "df.selectExpr(\"count(plus_pandas(a,b))\").explain(\"Formatted\")\n",
    "end = time.time()-start\n",
    "print(f\"Time taken {end}\")"
   ]
  },
  {
   "cell_type": "code",
   "execution_count": null,
   "id": "07762bcb",
   "metadata": {},
   "outputs": [],
   "source": [
    "df.selectExpr(\"count(plus_pandas(a,b))\").explain()"
   ]
  }
 ],
 "metadata": {
  "kernelspec": {
   "display_name": "Python 3",
   "language": "python",
   "name": "python3"
  },
  "language_info": {
   "codemirror_mode": {
    "name": "ipython",
    "version": 3
   },
   "file_extension": ".py",
   "mimetype": "text/x-python",
   "name": "python",
   "nbconvert_exporter": "python",
   "pygments_lexer": "ipython3",
   "version": "3.12.8"
  }
 },
 "nbformat": 4,
 "nbformat_minor": 5
}
