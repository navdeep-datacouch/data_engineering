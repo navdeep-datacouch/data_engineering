{
 "cells": [
  {
   "cell_type": "markdown",
   "id": "d03a30a5",
   "metadata": {},
   "source": [
    "# Understanding Bucketing"
   ]
  },
  {
   "cell_type": "code",
   "execution_count": 10,
   "id": "e42afa37",
   "metadata": {},
   "outputs": [],
   "source": [
    "import findspark\n",
    "findspark.init()"
   ]
  },
  {
   "cell_type": "code",
   "execution_count": 11,
   "id": "888ffb7b",
   "metadata": {},
   "outputs": [],
   "source": [
    "from pyspark import SparkConf\n",
    "from pyspark.sql import SparkSession\n",
    "conf = SparkConf() \\\n",
    "        .setAppName(\"Dyanmic Partitions\") \\\n",
    "        .set(\"spark.driver.memory\", \"4g\") \\\n",
    "        .set(\"spark.driver.cores\", \"5\") \\\n",
    "        .set(\"spark.master\", \"local[5]\")\n",
    "\n",
    "spark = SparkSession.builder.config(conf=conf).getOrCreate()"
   ]
  },
  {
   "cell_type": "markdown",
   "id": "edebce0e",
   "metadata": {},
   "source": [
    "## Create Dataframes"
   ]
  },
  {
   "cell_type": "code",
   "execution_count": 12,
   "id": "71a92355",
   "metadata": {},
   "outputs": [],
   "source": [
    "ratingDF = spark.read.option(\"header\",\"true\").csv(\"spark-data/ratings.csv\")\n",
    "tagsDF = spark.read.option(\"header\",\"true\").csv(\"spark-data/tags.csv\")"
   ]
  },
  {
   "cell_type": "markdown",
   "id": "908a5b4c",
   "metadata": {},
   "source": [
    "## Joining Datasets without Bucketing"
   ]
  },
  {
   "cell_type": "code",
   "execution_count": null,
   "id": "c4162b7e",
   "metadata": {
    "scrolled": true
   },
   "outputs": [],
   "source": [
    "ratingDF.join(tagsDF,\"movieId\").explain(\"Formatted\")"
   ]
  },
  {
   "cell_type": "markdown",
   "id": "0d4de492",
   "metadata": {},
   "source": [
    "## Bucket Dataset on movieId"
   ]
  },
  {
   "cell_type": "code",
   "execution_count": null,
   "id": "229fb78a",
   "metadata": {},
   "outputs": [],
   "source": [
    "ratingDF.write.mode(\"overwrite\").bucketBy(10, \"movieId\").saveAsTable(\"ratings_bucketed\")"
   ]
  },
  {
   "cell_type": "code",
   "execution_count": null,
   "id": "8114ed64-7c52-4c9d-95d6-80d31aa76ec6",
   "metadata": {},
   "outputs": [],
   "source": [
    "tagsDF.write.mode(\"overwrite\").bucketBy(10, \"movieId\").saveAsTable(\"tags_bucketed\")"
   ]
  },
  {
   "cell_type": "code",
   "execution_count": null,
   "id": "52c97d87-9501-48ba-87f1-1d4e89848ef6",
   "metadata": {},
   "outputs": [],
   "source": [
    "tagsDF.printSchema"
   ]
  },
  {
   "cell_type": "markdown",
   "id": "dea3bfcb",
   "metadata": {},
   "source": [
    "# Run Join Query on bucketed data"
   ]
  },
  {
   "cell_type": "code",
   "execution_count": null,
   "id": "8b2c1a3f",
   "metadata": {
    "scrolled": true
   },
   "outputs": [],
   "source": [
    "spark.sql(\"select * from ratings_bucketed r join tags_bucketed t on r.movieId=t.movieId\").explain(\"Formatted\")"
   ]
  },
  {
   "cell_type": "code",
   "execution_count": null,
   "id": "3b6a7cc6-3f61-46f6-a69b-297af9cdb6e0",
   "metadata": {},
   "outputs": [],
   "source": [
    "# Save as Hive table, overwrite mode, partitioned by 'rating'\n",
    "ratingDF.write \\\n",
    "    .mode(\"overwrite\") \\\n",
    "    .partitionBy(\"rating\") \\\n",
    "    .saveAsTable(\"ratings_partitioned\")\n"
   ]
  }
 ],
 "metadata": {
  "kernelspec": {
   "display_name": "Python 3",
   "language": "python",
   "name": "python3"
  },
  "language_info": {
   "codemirror_mode": {
    "name": "ipython",
    "version": 3
   },
   "file_extension": ".py",
   "mimetype": "text/x-python",
   "name": "python",
   "nbconvert_exporter": "python",
   "pygments_lexer": "ipython3",
   "version": "3.12.8"
  }
 },
 "nbformat": 4,
 "nbformat_minor": 5
}
