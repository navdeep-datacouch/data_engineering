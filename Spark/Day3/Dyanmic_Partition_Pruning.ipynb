{
 "cells": [
  {
   "cell_type": "markdown",
   "id": "d03a30a5",
   "metadata": {},
   "source": [
    "# Dyanmic Partition Pruning"
   ]
  },
  {
   "cell_type": "code",
   "execution_count": null,
   "id": "bd2b7476",
   "metadata": {},
   "outputs": [],
   "source": [
    "from pyspark.sql import SparkSession\n",
    "spark = SparkSession.builder \\\n",
    "    .appName(\"SparkSession\") \\\n",
    "    .getOrCreate()"
   ]
  },
  {
   "cell_type": "code",
   "execution_count": null,
   "id": "71a92355",
   "metadata": {},
   "outputs": [],
   "source": [
    "ratingCountDF = spark.read.csv(\"spark-data/ratings_count\")\n",
    "ratingCountDF.show()\n",
    "ratingCountDF.createOrReplaceTempView(\"rating_count\")"
   ]
  },
  {
   "cell_type": "code",
   "execution_count": 3,
   "id": "229fb78a",
   "metadata": {},
   "outputs": [],
   "source": [
    "ratingDF = spark.read.option(\"header\",\"true\").csv(\"spark-data/ratings.csv\")\n",
    "ratingDF.createOrReplaceTempView(\"ratings_without_partition\")"
   ]
  },
  {
   "cell_type": "code",
   "execution_count": null,
   "id": "2d32cc6b",
   "metadata": {},
   "outputs": [],
   "source": [
    "spark.sql(\"Select r.* from ratings_without_partition r join rating_count c on r.rating = c._c0 where c._c1 > 3000000\").write.mode(\"overwrite\").csv(\"spark-data/output\") "
   ]
  },
  {
   "cell_type": "code",
   "execution_count": null,
   "id": "acc17a84-eb1a-44e5-86d6-34aad059ea9d",
   "metadata": {},
   "outputs": [],
   "source": [
    "spark.read.csv(\"spark-data/ratings.csv\", header=\"true\", inferSchema=\"true\") \\\n",
    ".write.mode(\"overwrite\").partitionBy(\"rating\").parquet(\"spark-data/parquet/rating\")"
   ]
  },
  {
   "cell_type": "code",
   "execution_count": 8,
   "id": "fd19f576-ce56-4384-be35-83dc43e67b6b",
   "metadata": {},
   "outputs": [],
   "source": [
    "ratingDF = spark.read.parquet(\"spark-data/parquet/rating\")\n",
    "ratingDF.createOrReplaceTempView(\"rating_partioned\")"
   ]
  },
  {
   "cell_type": "code",
   "execution_count": null,
   "id": "233e1f03",
   "metadata": {},
   "outputs": [],
   "source": [
    "spark.sql(\"Select r.* from rating_partioned r join rating_count c on r.rating = c._c0 where c._c1 > 3000000\").write.mode(\"overwrite\").csv(\"spark-data/output\")"
   ]
  },
  {
   "cell_type": "code",
   "execution_count": null,
   "id": "2e958fad-8c8d-439f-9741-26f12bfb349c",
   "metadata": {},
   "outputs": [],
   "source": []
  }
 ],
 "metadata": {
  "kernelspec": {
   "display_name": "Python 3",
   "language": "python",
   "name": "python3"
  },
  "language_info": {
   "codemirror_mode": {
    "name": "ipython",
    "version": 3
   },
   "file_extension": ".py",
   "mimetype": "text/x-python",
   "name": "python",
   "nbconvert_exporter": "python",
   "pygments_lexer": "ipython3",
   "version": "3.12.8"
  }
 },
 "nbformat": 4,
 "nbformat_minor": 5
}
