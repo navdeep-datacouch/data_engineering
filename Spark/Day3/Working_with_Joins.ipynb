{
 "cells": [
  {
   "cell_type": "code",
   "execution_count": null,
   "id": "e4cf66f1",
   "metadata": {},
   "outputs": [],
   "source": [
    "from pyspark.sql import SparkSession\n",
    "spark = SparkSession.builder \\\n",
    "    .appName(\"SparkSession\") \\\n",
    "    .getOrCreate()"
   ]
  },
  {
   "cell_type": "code",
   "execution_count": 2,
   "id": "f8a5b748",
   "metadata": {},
   "outputs": [],
   "source": [
    "spark.conf.set(\"spark.sql.adaptive.enabled\",\"false\")"
   ]
  },
  {
   "cell_type": "code",
   "execution_count": null,
   "id": "2f6e2b7f",
   "metadata": {},
   "outputs": [],
   "source": [
    "moviesDF = spark.read.option(\"header\",\"true\").csv(\"spark-data/movies.csv\")\n",
    "ratingDF = spark.read.option(\"header\",\"true\").csv(\"spark-data/ratings.csv\")\n",
    "\n",
    "joinDF = ratingDF \\\n",
    ".filter(\"rating == 2.0\") \\\n",
    ".join(moviesDF,\"movieId\") \\\n",
    ".cache()\n",
    "\n",
    "joinDF.count()\n",
    "joinDF.show()\n",
    "\n"
   ]
  },
  {
   "cell_type": "code",
   "execution_count": null,
   "id": "cc7c4b29-81a2-48f4-9361-857e9a1b8a28",
   "metadata": {},
   "outputs": [],
   "source": [
    "moviesDF = spark.read.option(\"header\",\"true\").csv(\"spark-data/movies.csv\")\n",
    "ratingDF = spark.read.option(\"header\",\"true\").csv(\"spark-data/ratings.csv\")\n",
    "\n",
    "joinDF = ratingDF \\\n",
    ".filter(\"rating == 2.0\") \\\n",
    ".join(moviesDF,\"movieId\",\"right\") \\\n",
    "\n",
    "joinDF.count()\n",
    "\n",
    "joinDF.show()"
   ]
  },
  {
   "cell_type": "code",
   "execution_count": null,
   "id": "615315fe-b5dc-40b5-9094-b64673d29bc9",
   "metadata": {},
   "outputs": [],
   "source": [
    "moviesDF = spark.read.option(\"header\",\"true\").csv(\"spark-data/movies.csv\")\n",
    "ratingDF = spark.read.option(\"header\",\"true\").csv(\"spark-data/ratings.csv\")\n",
    "\n",
    "joinDF = moviesDF \\\n",
    ".join(ratingDF,\"movieId\",\"right\") \\\n",
    ".count()"
   ]
  },
  {
   "cell_type": "code",
   "execution_count": null,
   "id": "7447b4cb-55f2-4c66-a717-5bb9475ab0b6",
   "metadata": {},
   "outputs": [],
   "source": [
    "moviesDF = spark.read.option(\"header\",\"true\").csv(\"spark-data/movies.csv\")\n",
    "ratingDF = spark.read.option(\"header\",\"true\").csv(\"spark-data/ratings.csv\")\n",
    "\n",
    "joinDF = moviesDF \\\n",
    ".join(ratingDF,\"movieId\") \\\n",
    ".count()"
   ]
  },
  {
   "cell_type": "code",
   "execution_count": 7,
   "id": "bd1073fa-536f-497f-950b-b99aedd5b96c",
   "metadata": {},
   "outputs": [],
   "source": [
    "spark.conf.set(\"spark.sql.autoBroadcastJoinThreshold\",\"10MB\")"
   ]
  },
  {
   "cell_type": "code",
   "execution_count": 8,
   "id": "b93a1b7c-170f-4b02-9c3f-e6d76ad77b4a",
   "metadata": {},
   "outputs": [],
   "source": [
    "joinDF = ratingDF \\\n",
    ".filter(\"rating == 2.0\") \\\n",
    ".join(moviesDF,\"movieId\") \\\n",
    ".count()"
   ]
  },
  {
   "cell_type": "code",
   "execution_count": null,
   "id": "0e6f7c82-71de-4fe3-a1b9-6225c4e4ad0e",
   "metadata": {},
   "outputs": [],
   "source": [
    "ratingDF = spark.read.option(\"header\",\"true\").csv(\"spark-data/ratings.csv\")\n",
    "ratingDF.repartition(\"movieId\")\n",
    "tagsDF = spark.read.option(\"header\",\"true\").csv(\"spark-data/tags.csv\")\n",
    "ratingDF.join(tagsDF,\"movieId\").show()"
   ]
  },
  {
   "cell_type": "code",
   "execution_count": null,
   "id": "7018eb66-aa0f-448a-b8b2-cc9a6527f43b",
   "metadata": {},
   "outputs": [],
   "source": [
    "spark.conf.get(\"spark.sql.autoBroadcastJoinThreshold\")"
   ]
  },
  {
   "cell_type": "code",
   "execution_count": null,
   "id": "c3a303e6",
   "metadata": {},
   "outputs": [],
   "source": [
    "\n",
    "\n",
    "tagsDF = spark.read.option(\"header\",\"true\").csv(\"spark-data/tags.csv\")\n",
    "ratingDF = spark.read.option(\"header\",\"true\").csv(\"spark-data/ratings.csv\")\n",
    "ratingDF \\\n",
    "    .join(tagsDF,\"movieId\") \\\n",
    "    .count()"
   ]
  },
  {
   "cell_type": "code",
   "execution_count": null,
   "id": "54addc9f-aea3-4c7b-b79f-2fd96ddb15a5",
   "metadata": {},
   "outputs": [],
   "source": [
    "from pyspark.sql.functions import *\n",
    "\n",
    "tagsDF = spark.read.option(\"header\",\"true\").csv(\"spark-data/tags.csv\")\n",
    "ratingDF = spark.read.option(\"header\",\"true\").csv(\"spark-data/ratings.csv\")\n",
    "ratingDF \\\n",
    "    .join(broadcast(tagsDF),\"movieId\") \\\n",
    "    .count()"
   ]
  },
  {
   "cell_type": "code",
   "execution_count": null,
   "id": "1e49cc9a",
   "metadata": {},
   "outputs": [],
   "source": [
    "tagsDF = spark.read.option(\"header\",\"true\").csv(\"spark-data/tags.csv\")\n",
    "tagsDF \\\n",
    ".write \\\n",
    ".bucketBy(12,\"movieId\") \\\n",
    ".mode(\"overwrite\") \\\n",
    ".saveAsTable(\"tags_bucketed\",mode='overwrite',path='data/rating/tags_bucketed')"
   ]
  },
  {
   "cell_type": "code",
   "execution_count": null,
   "id": "a93c6766",
   "metadata": {},
   "outputs": [],
   "source": [
    "ratingDF = spark.read.option(\"header\",\"true\").csv(\"spark-data/ratings.csv\")\n",
    "ratingDF \\\n",
    ".write \\\n",
    ".bucketBy(12,\"movieId\") \\\n",
    ".mode(\"overwrite\") \\\n",
    ".saveAsTable(\"ratings\", mode = 'overwrite')\n"
   ]
  },
  {
   "cell_type": "code",
   "execution_count": null,
   "id": "dc858d34",
   "metadata": {},
   "outputs": [],
   "source": [
    "spark.read.table(\"tags_bucketed\").rdd.getNumPartitions()"
   ]
  },
  {
   "cell_type": "code",
   "execution_count": null,
   "id": "c6ffbb89",
   "metadata": {},
   "outputs": [],
   "source": [
    "spark.read.table(\"ratings\").rdd.getNumPartitions()"
   ]
  },
  {
   "cell_type": "code",
   "execution_count": 17,
   "id": "7d2dac0d",
   "metadata": {},
   "outputs": [],
   "source": [
    "spark.conf.set(\"spark.sql.autoBroadcastJoinThreshold\",-1)"
   ]
  },
  {
   "cell_type": "code",
   "execution_count": null,
   "id": "a9930186",
   "metadata": {},
   "outputs": [],
   "source": [
    "tagsDF = spark.read.table(\"tags_bucketed\")\n",
    "ratingsDF = spark.read.table(\"ratings\")\n",
    "\n",
    "tagsDF \\\n",
    "    .join(ratingsDF,\"movieId\") \\\n",
    "    .count()"
   ]
  }
 ],
 "metadata": {
  "kernelspec": {
   "display_name": "Python 3",
   "language": "python",
   "name": "python3"
  },
  "language_info": {
   "codemirror_mode": {
    "name": "ipython",
    "version": 3
   },
   "file_extension": ".py",
   "mimetype": "text/x-python",
   "name": "python",
   "nbconvert_exporter": "python",
   "pygments_lexer": "ipython3",
   "version": "3.12.8"
  }
 },
 "nbformat": 4,
 "nbformat_minor": 5
}
