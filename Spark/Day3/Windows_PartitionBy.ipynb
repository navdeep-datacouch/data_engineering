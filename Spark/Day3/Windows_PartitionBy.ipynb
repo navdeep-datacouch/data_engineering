{
 "cells": [
  {
   "cell_type": "code",
   "execution_count": null,
   "id": "e8a83d20",
   "metadata": {},
   "outputs": [],
   "source": [
    "from pyspark.sql import SparkSession\n",
    "spark = SparkSession.builder \\\n",
    "    .appName(\"SparkSession\") \\\n",
    "    .getOrCreate()"
   ]
  },
  {
   "cell_type": "code",
   "execution_count": 4,
   "id": "0808d4ca-2753-4c5c-8664-5876b76d1c87",
   "metadata": {},
   "outputs": [],
   "source": [
    "from pyspark.sql.window import Window\n",
    "from pyspark.sql.functions import *"
   ]
  },
  {
   "cell_type": "code",
   "execution_count": null,
   "id": "e1ab3cea-8b26-4482-8003-3fcf6a6bf154",
   "metadata": {},
   "outputs": [],
   "source": [
    "ratingDF = spark.read.option(\"header\",\"true\").csv(\"spark-data/ratings.csv\")\n",
    "windowPartition7 = Window.partitionBy(\"movieId\",\"rating\").orderBy(col(\"userId\").cast(\"long\")).rangeBetween(Window.currentRow, 7)\n",
    "windowPartition15 = Window.partitionBy(\"movieId\",\"rating\").orderBy(col(\"userId\").cast(\"long\")).rangeBetween(Window.currentRow, 15)\n",
    "windowPartition30 = Window.partitionBy(\"movieId\",\"rating\").orderBy(col(\"userId\").cast(\"long\")).rangeBetween(Window.currentRow, 30)\n",
    "\n",
    "\n",
    "(ratingDF\n",
    ".withColumn(\"rating_7\",count(\"rating\").over(windowPartition7))\n",
    ".withColumn(\"rating_15\",count(\"rating\").over(windowPartition15))\n",
    ".withColumn(\"rating_30\",count(\"rating\").over(windowPartition30))\n",
    ".explain(\"Formatted\"))"
   ]
  },
  {
   "cell_type": "code",
   "execution_count": null,
   "id": "f90dee82-b50d-465b-8961-69a6b4768733",
   "metadata": {},
   "outputs": [],
   "source": []
  }
 ],
 "metadata": {
  "kernelspec": {
   "display_name": "Python 3",
   "language": "python",
   "name": "python3"
  },
  "language_info": {
   "codemirror_mode": {
    "name": "ipython",
    "version": 3
   },
   "file_extension": ".py",
   "mimetype": "text/x-python",
   "name": "python",
   "nbconvert_exporter": "python",
   "pygments_lexer": "ipython3",
   "version": "3.12.8"
  }
 },
 "nbformat": 4,
 "nbformat_minor": 5
}
